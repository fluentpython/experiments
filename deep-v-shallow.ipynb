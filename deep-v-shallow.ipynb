{
 "cells": [
  {
   "cell_type": "markdown",
   "metadata": {},
   "source": [
    "# Deep v. shallow sequences\n",
    "\n",
    "References:\n",
    "\n",
    "* [Raymond Hettinger's anwswer to \"Are tuples more efficient than lists in Python?\"](https://stackoverflow.com/questions/68630/are-tuples-more-efficient-than-lists-in-python/22140115#22140115): includes tuple and list structs\n",
    "\n",
    "* [Python internals: Arbitrary-precision integer implementation](https://rushter.com/blog/python-integer-implementation/), by Artem Golubin: includes introspection of object structures with `ctypes`\n",
    "\n",
    "## Inspecting a tuple of `float`\n",
    "\n",
    "Code from Hettinger's answer:\n",
    "\n",
    "```c\n",
    "typedef struct {\n",
    "        Py_ssize_t ob_refcnt;\n",
    "        struct _typeobject *ob_type;\n",
    "        Py_ssize_t ob_size;\n",
    "        PyObject *ob_item[2];     /* store a pointer to 10 and a pointer to 20 */\n",
    "    } PyTupleObject;\n",
    "```\n",
    "\n",
    "From `cpython/Include/floatobject.h` (with expanded macros)\n",
    "\n",
    "```c\n",
    "typedef struct {\n",
    "    Py_ssize_t ob_refcnt;         /* PyObject_HEAD */\n",
    "    struct _typeobject *ob_type;  /* PyObject_HEAD */\n",
    "    double ob_fval;\n",
    "} PyFloatObject;\n",
    "```"
   ]
  },
  {
   "cell_type": "code",
   "execution_count": 1,
   "metadata": {},
   "outputs": [
    {
     "name": "stdout",
     "output_type": "stream",
     "text": [
      "ob_refcnt: 2\n",
      "ob_val: 5.0\n"
     ]
    }
   ],
   "source": [
    "import ctypes\n",
    "\n",
    "class PyFloatObject(ctypes.Structure):\n",
    "    _fields_ = [(\"ob_refcnt\", ctypes.c_long),\n",
    "                (\"ob_type\", ctypes.c_void_p),\n",
    "                (\"ob_val\", ctypes.c_double),\n",
    "               ]\n",
    "\n",
    "n = 5.0\n",
    "float_struct = PyFloatObject.from_address(id(n))\n",
    "\n",
    "print('ob_refcnt:', float_struct.ob_refcnt)\n",
    "print('ob_val:', float_struct.ob_val)"
   ]
  },
  {
   "cell_type": "code",
   "execution_count": 2,
   "metadata": {},
   "outputs": [
    {
     "name": "stdout",
     "output_type": "stream",
     "text": [
      "t: (1.0, 2.0)\n",
      "item ids: (140379098725616, 140379098725832)\n",
      "ob_size: 2\n",
      "ob_item: <__main__.c_void_p_Array_2 object at 0x7fac8c24f6a8>\n"
     ]
    }
   ],
   "source": [
    "t = (1.0, 2.0)\n",
    "\n",
    "ITEMS = len(t)\n",
    "\n",
    "class PyTupleObject(ctypes.Structure):\n",
    "    _fields_ = [(\"ob_refcnt\", ctypes.c_long),\n",
    "                (\"ob_type\", ctypes.c_void_p),\n",
    "                (\"ob_size\", ctypes.c_ulong),\n",
    "                (\"ob_item\", ctypes.c_void_p * ITEMS)]\n",
    "\n",
    "\n",
    "print('t:', t)\n",
    "print('item ids:', tuple(id(i) for i in t))\n",
    "\n",
    "t_struct = PyTupleObject.from_address(id(t))\n",
    "\n",
    "print('ob_size:', t_struct.ob_size)\n",
    "print('ob_item:', t_struct.ob_item)"
   ]
  },
  {
   "cell_type": "code",
   "execution_count": 3,
   "metadata": {},
   "outputs": [
    {
     "name": "stdout",
     "output_type": "stream",
     "text": [
      "140379098725616 0x7fac8e503cf0 → 1.0\n",
      "140379098725832 0x7fac8e503dc8 → 2.0\n"
     ]
    }
   ],
   "source": [
    "for ref in t_struct.ob_item:\n",
    "    i_struct = PyFloatObject.from_address(ref)\n",
    "    print(ref, hex(ref), '→', i_struct.ob_val)"
   ]
  },
  {
   "cell_type": "markdown",
   "metadata": {},
   "source": [
    "## Inspecting an array of `c_double`\n",
    "\n",
    "`Modules/arraymodule.c`\n",
    "\n",
    "```c\n",
    "struct arraydescr {\n",
    "    char typecode;\n",
    "    int itemsize;\n",
    "    PyObject * (*getitem)(struct arrayobject *, Py_ssize_t);\n",
    "    int (*setitem)(struct arrayobject *, Py_ssize_t, PyObject *);\n",
    "    int (*compareitems)(const void *, const void *, Py_ssize_t);\n",
    "    const char *formats;\n",
    "    int is_integer_type;\n",
    "    int is_signed;\n",
    "};\n",
    "\n",
    "typedef struct arrayobject {\n",
    "    PyObject_VAR_HEAD\n",
    "    char *ob_item;\n",
    "    Py_ssize_t allocated;\n",
    "    const struct arraydescr *ob_descr;\n",
    "    PyObject *weakreflist; /* List of weak references */\n",
    "    int ob_exports;  /* Number of exported buffers */\n",
    "} arrayobject;\n",
    "\n",
    "/* ... */\n",
    "\n",
    "static PyObject *\n",
    "d_getitem(arrayobject *ap, Py_ssize_t i)\n",
    "{\n",
    "    return PyFloat_FromDouble(((double *)ap->ob_item)[i]);\n",
    "}\n",
    "\n",
    "static int\n",
    "d_setitem(arrayobject *ap, Py_ssize_t i, PyObject *v)\n",
    "{\n",
    "    double x;\n",
    "    if (!PyArg_Parse(v, \"d;array item must be float\", &x))\n",
    "        return -1;\n",
    "    if (i >= 0)\n",
    "                 ((double *)ap->ob_item)[i] = x;\n",
    "    return 0;\n",
    "}\n",
    "```"
   ]
  },
  {
   "cell_type": "code",
   "execution_count": 4,
   "metadata": {},
   "outputs": [
    {
     "name": "stdout",
     "output_type": "stream",
     "text": [
      "ob_size: 2\n",
      "ob_item: <__main__.c_void_p_Array_2 object at 0x7fac8c24fae8>\n"
     ]
    }
   ],
   "source": [
    "import array\n",
    "\n",
    "a = array.array('d', (30.0, 40.0))\n",
    "\n",
    "ITEMS = len(a)\n",
    "\n",
    "class PyArrayObject(ctypes.Structure):\n",
    "    _fields_ = [(\"ob_refcnt\", ctypes.c_long),\n",
    "                (\"ob_type\", ctypes.c_void_p),\n",
    "                (\"ob_size\", ctypes.c_ulong),\n",
    "                (\"ob_item\", ctypes.c_void_p * ITEMS),\n",
    "                (\"allocated\", ctypes.c_ulong),\n",
    "                (\"ob_descr\", ctypes.c_void_p),\n",
    "                (\"weakreflist\", ctypes.c_void_p),\n",
    "                (\"ob_exports\", ctypes.c_int),\n",
    "               ]\n",
    "\n",
    "a_struct = PyArrayObject.from_address(id(a))\n",
    "\n",
    "print('ob_size:', a_struct.ob_size)\n",
    "print('ob_item:', a_struct.ob_item)"
   ]
  },
  {
   "cell_type": "code",
   "execution_count": 5,
   "metadata": {},
   "outputs": [
    {
     "name": "stdout",
     "output_type": "stream",
     "text": [
      "140379089740144 <__main__.LP_c_double object at 0x7fac8c24f510>\n",
      "2 <__main__.LP_c_double object at 0x7fac8c24f510>\n"
     ]
    }
   ],
   "source": [
    "for val in a_struct.ob_item:\n",
    "    print(val, ctypes.cast(val, ctypes.POINTER(ctypes.c_double)))"
   ]
  },
  {
   "cell_type": "code",
   "execution_count": null,
   "metadata": {},
   "outputs": [],
   "source": []
  }
 ],
 "metadata": {
  "kernelspec": {
   "display_name": "Python 3",
   "language": "python",
   "name": "python3"
  },
  "language_info": {
   "codemirror_mode": {
    "name": "ipython",
    "version": 3
   },
   "file_extension": ".py",
   "mimetype": "text/x-python",
   "name": "python",
   "nbconvert_exporter": "python",
   "pygments_lexer": "ipython3",
   "version": "3.7.2"
  }
 },
 "nbformat": 4,
 "nbformat_minor": 2
}
